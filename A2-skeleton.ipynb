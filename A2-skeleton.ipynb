{
 "cells": [
  {
   "cell_type": "markdown",
   "metadata": {},
   "source": [
    "# Group Details\n",
    "## Group 15 \n"
   ]
  },
  {
   "cell_type": "code",
   "execution_count": 3,
   "metadata": {},
   "outputs": [],
   "source": [
    "import numpy as np\n",
    "import matplotlib.pyplot as plt"
   ]
  },
  {
   "cell_type": "code",
   "execution_count": 4,
   "metadata": {},
   "outputs": [],
   "source": [
    "def load_trajectory(filename, task):\n",
    "\n",
    "    traj = np.load(filename)\n",
    "    if task == 'task_1' or task == 'task_2':\n",
    "        trajectory = traj['trajectory']\n",
    "        energy = traj['energy']\n",
    "        return trajectory, energy\n",
    "    if task == 'task_3':\n",
    "        trajectory = traj['trajectory']\n",
    "        framework = traj['framework']\n",
    "        energy = traj['energy']\n",
    "        return trajectory, framework, energy"
   ]
  },
  {
   "cell_type": "markdown",
   "metadata": {},
   "source": [
    "Below, you can find an example of how to load a trajectory. ```trajectory``` contains the particle position, velocity and charge data. ```energy``` contains the energy of the system at various timesteps. The shape of the arrays is as follows:\n",
    "\n",
    "```trajectory```: ```(time, n_bodies, [x, y, v_x, v_y, q])```\n",
    "\n",
    "```energy```: ```(time, 1)```"
   ]
  },
  {
   "cell_type": "code",
   "execution_count": 5,
   "metadata": {},
   "outputs": [
    {
     "name": "stdout",
     "output_type": "stream",
     "text": [
      "Trajectory shape: (40, 4, 5), Energy shape: (40, 1)\n"
     ]
    }
   ],
   "source": [
    "trajectory, energy = load_trajectory('data_A2_2AMM10_2023_2024/data/task1_2/train/trajectory_0.npz', 'task_1')\n",
    "print(f'Trajectory shape: {trajectory.shape}, Energy shape: {energy.shape}')"
   ]
  },
  {
   "cell_type": "markdown",
   "metadata": {},
   "source": [
    "The following code provides an example of how to visualize a trajectory. Feel free to modify this code, or write your own function. When evaluating your model in task 2 and 3, keep in mind that you are only allowed to use the data at t=0 (the black dots in the visualization)."
   ]
  },
  {
   "cell_type": "code",
   "execution_count": 6,
   "metadata": {},
   "outputs": [
    {
     "data": {
      "image/png": "[encoded data removed]",
      "text/plain": [
       "<Figure size 400x400 with 1 Axes>"
      ]
     },
     "metadata": {},
     "output_type": "display_data"
    },
    {
     "data": {
      "image/png": "[encoded data removed]",
      "text/plain": [
       "<Figure size 400x100 with 1 Axes>"
      ]
     },
     "metadata": {},
     "output_type": "display_data"
    }
   ],
   "source": [
    "x = trajectory[...,0]\n",
    "y = trajectory[...,1]\n",
    "\n",
    "plt.figure(figsize=(4,4))\n",
    "plt.vlines([0,20],0,20)\n",
    "plt.hlines([0,20],0,20)\n",
    "\n",
    "plt.scatter(x[0], y[0], c='black')\n",
    "\n",
    "for i in range(x.shape[1]):\n",
    "    plt.scatter(x[:,i], y[:,i], s=5)\n",
    "\n",
    "plt.xlim(-1,21)\n",
    "plt.ylim(-1,21)\n",
    "\n",
    "plt.show()\n",
    "plt.figure(figsize=(4,1))\n",
    "plt.plot(energy)\n",
    "plt.xlabel('step')\n",
    "plt.title('System energy over time')\n",
    "plt.show();"
   ]
  },
  {
   "cell_type": "markdown",
   "metadata": {},
   "source": [
    "# Task 1"
   ]
  },
  {
   "cell_type": "markdown",
   "metadata": {},
   "source": [
    "Implement task 1 below. Feel free to add extra code cells for different components of your implementation."
   ]
  },
  {
   "cell_type": "code",
   "execution_count": 7,
   "metadata": {},
   "outputs": [],
   "source": [
    "# !pip install "
   ]
  },
  {
   "cell_type": "code",
   "execution_count": 8,
   "metadata": {},
   "outputs": [],
   "source": [
    "import numpy as np\n",
    "import matplotlib.pyplot as plt\n",
    "import tensorflow as tf\n",
    "from tensorflow.keras.models import Sequential\n",
    "from tensorflow.keras.layers import LSTM, Dense, InputLayer\n",
    "from tensorflow.keras.optimizers import Adam"
   ]
  },
  {
   "cell_type": "markdown",
   "metadata": {},
   "source": [
    "# Task 2"
   ]
  },
  {
   "cell_type": "markdown",
   "metadata": {},
   "source": [
    "Implement task 2 below. Feel free to add extra code cells for different components of your implementation."
   ]
  },
  {
   "cell_type": "code",
   "execution_count": 9,
   "metadata": {},
   "outputs": [],
   "source": [
    "train_trajectory = np.load('data_A2_2AMM10_2023_2024/data/task1_2/train/trajectory_0.npz')['trajectory']"
   ]
  },
  {
   "cell_type": "markdown",
   "metadata": {},
   "source": [
    "\n",
    "After predicting energies, the next step towards building a simulator is modelling the dynamics. Specifically, your task is to build a model, that, given a set of initial positions x0 i, velocities v0 i and charges qi of atoms pi, predicts a sequence of positions x1:T i state of T = 40. The length of each time step is 0.5 seconds.\n",
    " , up to terminal\n",
    " For this task, the training data consists of the same data as in the previous task. The test\n",
    " set consists of datapoints containing initial positions x0\n",
    " i and velocities v0\n",
    " i and charges qi, as\n",
    " well as the energy e0, paired with the remainder of the trajectories x1:T\n",
    " i\n",
    " evaluating the performance of your method.\n",
    " Hints:\n",
    " of the atoms pi for\n",
    " • While building a model, keep in mind how your design choices affect the ability of your\n",
    " model to handle symmetries. What will happen to the trajectory if the initial positions\n",
    " and velocities are rotated? What will happen if they are reflected horizontally?\n",
    " • We only care about the performance of your model with respect to the predicted\n",
    " positions for its evaluation. However, depending on your approach, it might be useful\n",
    " to also have your model predict velocities and energies in order to infer positions later\n",
    " on.\n",
    " • Whenperforming the evaluation of your model, keep in mind that you are only allowed\n",
    " to give it as input x0\n",
    " i, v0\n",
    " i, e0. The rest of the trajectory needs to be generated by your\n",
    " model!\n",
    "\n"
   ]
  },
  {
   "cell_type": "code",
   "execution_count": 10,
   "metadata": {},
   "outputs": [],
   "source": [
    "# Prepare the data for training \n",
    "\n",
    "# Initial positions at t=0\n",
    "initial_positions = trajectory[:, 0, :]\n",
    "# Initial velocities estimated from the difference in positions between t=1 and t=0\n",
    "initial_velocities = (trajectory[:, 1, :] - trajectory[:, 0, :]) / 0.5  # Assuming time step is 0.5s\n",
    "# Generate charges for the atoms (for simplicity, using random charges)\n",
    "charges = np.random.choice([-1, 1], size=(trajectory.shape[0], trajectory.shape[1]))\n"
   ]
  },
  {
   "cell_type": "code",
   "execution_count": 14,
   "metadata": {},
   "outputs": [
    {
     "data": {
      "text/plain": [
       "array([[ 0.4797772 ,  0.3765976 ,  0.02632263, -0.00332456,  0.05      ],\n",
       "       [ 0.39213811,  0.63270296,  0.02790615, -0.00555387,  0.05      ],\n",
       "       [ 0.48560674,  0.72478866,  0.01326539,  0.01580268,  0.05      ],\n",
       "       [ 0.26401827,  0.37680233,  0.01214412,  0.02124722,  0.05      ]])"
      ]
     },
     "execution_count": 14,
     "metadata": {},
     "output_type": "execute_result"
    }
   ],
   "source": [
    "x_train"
   ]
  },
  {
   "cell_type": "code",
   "execution_count": 13,
   "metadata": {},
   "outputs": [
    {
     "name": "stdout",
     "output_type": "stream",
     "text": [
      "Epoch 1/100\n",
      "1/1 [==============================] - 1s 579ms/step - loss: 0.2482 - val_loss: 0.2428\n",
      "Epoch 2/100\n",
      "1/1 [==============================] - 0s 96ms/step - loss: 0.2246 - val_loss: 0.2264\n",
      "Epoch 3/100\n",
      "1/1 [==============================] - 0s 31ms/step - loss: 0.2023 - val_loss: 0.2103\n",
      "Epoch 4/100\n",
      "1/1 [==============================] - 0s 40ms/step - loss: 0.1814 - val_loss: 0.1949\n",
      "Epoch 5/100\n",
      "1/1 [==============================] - 0s 25ms/step - loss: 0.1614 - val_loss: 0.1805\n",
      "Epoch 6/100\n",
      "1/1 [==============================] - 0s 31ms/step - loss: 0.1429 - val_loss: 0.1664\n",
      "Epoch 7/100\n",
      "1/1 [==============================] - 0s 23ms/step - loss: 0.1258 - val_loss: 0.1525\n",
      "Epoch 8/100\n",
      "1/1 [==============================] - 0s 34ms/step - loss: 0.1095 - val_loss: 0.1393\n",
      "Epoch 9/100\n",
      "1/1 [==============================] - 0s 35ms/step - loss: 0.0943 - val_loss: 0.1267\n",
      "Epoch 10/100\n",
      "1/1 [==============================] - 0s 38ms/step - loss: 0.0805 - val_loss: 0.1145\n",
      "Epoch 11/100\n",
      "1/1 [==============================] - 0s 34ms/step - loss: 0.0678 - val_loss: 0.1026\n",
      "Epoch 12/100\n",
      "1/1 [==============================] - 0s 35ms/step - loss: 0.0561 - val_loss: 0.0910\n",
      "Epoch 13/100\n",
      "1/1 [==============================] - 0s 38ms/step - loss: 0.0454 - val_loss: 0.0800\n",
      "Epoch 14/100\n",
      "1/1 [==============================] - 0s 33ms/step - loss: 0.0359 - val_loss: 0.0699\n",
      "Epoch 15/100\n",
      "1/1 [==============================] - 0s 34ms/step - loss: 0.0276 - val_loss: 0.0604\n",
      "Epoch 16/100\n",
      "1/1 [==============================] - 0s 33ms/step - loss: 0.0207 - val_loss: 0.0515\n",
      "Epoch 17/100\n",
      "1/1 [==============================] - 0s 41ms/step - loss: 0.0152 - val_loss: 0.0435\n",
      "Epoch 18/100\n",
      "1/1 [==============================] - 0s 32ms/step - loss: 0.0112 - val_loss: 0.0363\n",
      "Epoch 19/100\n",
      "1/1 [==============================] - 0s 31ms/step - loss: 0.0084 - val_loss: 0.0301\n",
      "Epoch 20/100\n",
      "1/1 [==============================] - 0s 36ms/step - loss: 0.0068 - val_loss: 0.0247\n",
      "Epoch 21/100\n",
      "1/1 [==============================] - 0s 29ms/step - loss: 0.0062 - val_loss: 0.0204\n",
      "Epoch 22/100\n",
      "1/1 [==============================] - 0s 26ms/step - loss: 0.0062 - val_loss: 0.0169\n",
      "Epoch 23/100\n",
      "1/1 [==============================] - 0s 22ms/step - loss: 0.0068 - val_loss: 0.0143\n",
      "Epoch 24/100\n",
      "1/1 [==============================] - 0s 42ms/step - loss: 0.0077 - val_loss: 0.0125\n",
      "Epoch 25/100\n",
      "1/1 [==============================] - 0s 31ms/step - loss: 0.0085 - val_loss: 0.0115\n",
      "Epoch 26/100\n",
      "1/1 [==============================] - 0s 29ms/step - loss: 0.0092 - val_loss: 0.0110\n",
      "Epoch 27/100\n",
      "1/1 [==============================] - 0s 33ms/step - loss: 0.0096 - val_loss: 0.0112\n",
      "Epoch 28/100\n",
      "1/1 [==============================] - 0s 35ms/step - loss: 0.0097 - val_loss: 0.0117\n",
      "Epoch 29/100\n",
      "1/1 [==============================] - 0s 31ms/step - loss: 0.0095 - val_loss: 0.0127\n",
      "Epoch 30/100\n",
      "1/1 [==============================] - 0s 37ms/step - loss: 0.0091 - val_loss: 0.0140\n",
      "Epoch 31/100\n",
      "1/1 [==============================] - 0s 32ms/step - loss: 0.0085 - val_loss: 0.0155\n",
      "Epoch 32/100\n",
      "1/1 [==============================] - 0s 33ms/step - loss: 0.0078 - val_loss: 0.0173\n",
      "Epoch 33/100\n",
      "1/1 [==============================] - 0s 27ms/step - loss: 0.0070 - val_loss: 0.0191\n",
      "Epoch 34/100\n",
      "1/1 [==============================] - 0s 94ms/step - loss: 0.0064 - val_loss: 0.0209\n",
      "Epoch 35/100\n",
      "1/1 [==============================] - 0s 45ms/step - loss: 0.0057 - val_loss: 0.0227\n",
      "Epoch 36/100\n",
      "1/1 [==============================] - 0s 38ms/step - loss: 0.0052 - val_loss: 0.0244\n",
      "Epoch 37/100\n",
      "1/1 [==============================] - 0s 36ms/step - loss: 0.0047 - val_loss: 0.0260\n",
      "Epoch 38/100\n",
      "1/1 [==============================] - 0s 22ms/step - loss: 0.0043 - val_loss: 0.0274\n",
      "Epoch 39/100\n",
      "1/1 [==============================] - 0s 43ms/step - loss: 0.0040 - val_loss: 0.0285\n",
      "Epoch 40/100\n",
      "1/1 [==============================] - 0s 23ms/step - loss: 0.0038 - val_loss: 0.0295\n",
      "Epoch 41/100\n",
      "1/1 [==============================] - 0s 41ms/step - loss: 0.0036 - val_loss: 0.0302\n",
      "Epoch 42/100\n",
      "1/1 [==============================] - 0s 29ms/step - loss: 0.0034 - val_loss: 0.0307\n",
      "Epoch 43/100\n",
      "1/1 [==============================] - 0s 31ms/step - loss: 0.0033 - val_loss: 0.0310\n",
      "Epoch 44/100\n",
      "1/1 [==============================] - 0s 20ms/step - loss: 0.0032 - val_loss: 0.0311\n",
      "Epoch 45/100\n",
      "1/1 [==============================] - 0s 43ms/step - loss: 0.0032 - val_loss: 0.0310\n",
      "Epoch 46/100\n",
      "1/1 [==============================] - 0s 34ms/step - loss: 0.0031 - val_loss: 0.0308\n",
      "Epoch 47/100\n",
      "1/1 [==============================] - 0s 31ms/step - loss: 0.0031 - val_loss: 0.0305\n",
      "Epoch 48/100\n",
      "1/1 [==============================] - 0s 33ms/step - loss: 0.0031 - val_loss: 0.0301\n",
      "Epoch 49/100\n",
      "1/1 [==============================] - 0s 33ms/step - loss: 0.0031 - val_loss: 0.0296\n",
      "Epoch 50/100\n",
      "1/1 [==============================] - 0s 35ms/step - loss: 0.0031 - val_loss: 0.0290\n",
      "Epoch 51/100\n",
      "1/1 [==============================] - 0s 34ms/step - loss: 0.0030 - val_loss: 0.0285\n",
      "Epoch 52/100\n",
      "1/1 [==============================] - 0s 30ms/step - loss: 0.0030 - val_loss: 0.0279\n",
      "Epoch 53/100\n",
      "1/1 [==============================] - 0s 28ms/step - loss: 0.0029 - val_loss: 0.0274\n",
      "Epoch 54/100\n",
      "1/1 [==============================] - 0s 33ms/step - loss: 0.0028 - val_loss: 0.0269\n",
      "Epoch 55/100\n",
      "1/1 [==============================] - 0s 26ms/step - loss: 0.0027 - val_loss: 0.0265\n",
      "Epoch 56/100\n",
      "1/1 [==============================] - 0s 38ms/step - loss: 0.0026 - val_loss: 0.0261\n",
      "Epoch 57/100\n",
      "1/1 [==============================] - 0s 30ms/step - loss: 0.0025 - val_loss: 0.0258\n",
      "Epoch 58/100\n",
      "1/1 [==============================] - 0s 33ms/step - loss: 0.0024 - val_loss: 0.0255\n",
      "Epoch 59/100\n",
      "1/1 [==============================] - 0s 23ms/step - loss: 0.0023 - val_loss: 0.0253\n",
      "Epoch 60/100\n",
      "1/1 [==============================] - 0s 43ms/step - loss: 0.0023 - val_loss: 0.0252\n",
      "Epoch 61/100\n",
      "1/1 [==============================] - 0s 24ms/step - loss: 0.0022 - val_loss: 0.0251\n",
      "Epoch 62/100\n",
      "1/1 [==============================] - 0s 39ms/step - loss: 0.0021 - val_loss: 0.0251\n",
      "Epoch 63/100\n",
      "1/1 [==============================] - 0s 31ms/step - loss: 0.0021 - val_loss: 0.0251\n",
      "Epoch 64/100\n",
      "1/1 [==============================] - 0s 79ms/step - loss: 0.0021 - val_loss: 0.0251\n",
      "Epoch 65/100\n",
      "1/1 [==============================] - 0s 49ms/step - loss: 0.0021 - val_loss: 0.0252\n",
      "Epoch 66/100\n",
      "1/1 [==============================] - 0s 25ms/step - loss: 0.0021 - val_loss: 0.0252\n",
      "Epoch 67/100\n",
      "1/1 [==============================] - 0s 25ms/step - loss: 0.0020 - val_loss: 0.0252\n",
      "Epoch 68/100\n",
      "1/1 [==============================] - 0s 25ms/step - loss: 0.0020 - val_loss: 0.0252\n",
      "Epoch 69/100\n",
      "1/1 [==============================] - 0s 33ms/step - loss: 0.0020 - val_loss: 0.0252\n",
      "Epoch 70/100\n",
      "1/1 [==============================] - 0s 31ms/step - loss: 0.0020 - val_loss: 0.0252\n",
      "Epoch 71/100\n",
      "1/1 [==============================] - 0s 33ms/step - loss: 0.0020 - val_loss: 0.0252\n",
      "Epoch 72/100\n",
      "1/1 [==============================] - 0s 31ms/step - loss: 0.0019 - val_loss: 0.0251\n",
      "Epoch 73/100\n",
      "1/1 [==============================] - 0s 34ms/step - loss: 0.0019 - val_loss: 0.0251\n",
      "Epoch 74/100\n",
      "1/1 [==============================] - 0s 47ms/step - loss: 0.0018 - val_loss: 0.0250\n",
      "Epoch 75/100\n",
      "1/1 [==============================] - 0s 35ms/step - loss: 0.0018 - val_loss: 0.0249\n",
      "Epoch 76/100\n",
      "1/1 [==============================] - 0s 35ms/step - loss: 0.0018 - val_loss: 0.0249\n",
      "Epoch 77/100\n",
      "1/1 [==============================] - 0s 36ms/step - loss: 0.0017 - val_loss: 0.0249\n",
      "Epoch 78/100\n",
      "1/1 [==============================] - 0s 32ms/step - loss: 0.0017 - val_loss: 0.0248\n",
      "Epoch 79/100\n",
      "1/1 [==============================] - 0s 29ms/step - loss: 0.0017 - val_loss: 0.0248\n",
      "Epoch 80/100\n",
      "1/1 [==============================] - 0s 31ms/step - loss: 0.0016 - val_loss: 0.0248\n",
      "Epoch 81/100\n",
      "1/1 [==============================] - 0s 28ms/step - loss: 0.0016 - val_loss: 0.0249\n",
      "Epoch 82/100\n",
      "1/1 [==============================] - 0s 28ms/step - loss: 0.0016 - val_loss: 0.0249\n",
      "Epoch 83/100\n",
      "1/1 [==============================] - 0s 31ms/step - loss: 0.0016 - val_loss: 0.0250\n",
      "Epoch 84/100\n",
      "1/1 [==============================] - 0s 29ms/step - loss: 0.0016 - val_loss: 0.0250\n",
      "Epoch 85/100\n",
      "1/1 [==============================] - 0s 39ms/step - loss: 0.0015 - val_loss: 0.0251\n",
      "Epoch 86/100\n",
      "1/1 [==============================] - 0s 36ms/step - loss: 0.0015 - val_loss: 0.0251\n",
      "Epoch 87/100\n",
      "1/1 [==============================] - 0s 33ms/step - loss: 0.0015 - val_loss: 0.0252\n",
      "Epoch 88/100\n",
      "1/1 [==============================] - 0s 33ms/step - loss: 0.0015 - val_loss: 0.0252\n",
      "Epoch 89/100\n",
      "1/1 [==============================] - 0s 40ms/step - loss: 0.0015 - val_loss: 0.0252\n",
      "Epoch 90/100\n",
      "1/1 [==============================] - 0s 32ms/step - loss: 0.0014 - val_loss: 0.0253\n",
      "Epoch 91/100\n",
      "1/1 [==============================] - 0s 33ms/step - loss: 0.0014 - val_loss: 0.0253\n",
      "Epoch 92/100\n",
      "1/1 [==============================] - 0s 84ms/step - loss: 0.0014 - val_loss: 0.0252\n",
      "Epoch 93/100\n",
      "1/1 [==============================] - 0s 44ms/step - loss: 0.0014 - val_loss: 0.0252\n",
      "Epoch 94/100\n",
      "1/1 [==============================] - 0s 32ms/step - loss: 0.0013 - val_loss: 0.0252\n",
      "Epoch 95/100\n",
      "1/1 [==============================] - 0s 32ms/step - loss: 0.0013 - val_loss: 0.0251\n",
      "Epoch 96/100\n",
      "1/1 [==============================] - 0s 34ms/step - loss: 0.0013 - val_loss: 0.0250\n",
      "Epoch 97/100\n",
      "1/1 [==============================] - 0s 33ms/step - loss: 0.0013 - val_loss: 0.0249\n",
      "Epoch 98/100\n",
      "1/1 [==============================] - 0s 36ms/step - loss: 0.0013 - val_loss: 0.0248\n",
      "Epoch 99/100\n",
      "1/1 [==============================] - 0s 29ms/step - loss: 0.0012 - val_loss: 0.0247\n",
      "Epoch 100/100\n",
      "1/1 [==============================] - 0s 45ms/step - loss: 0.0012 - val_loss: 0.0247\n"
     ]
    },
    {
     "ename": "ValueError",
     "evalue": "all the input array dimensions except for the concatenation axis must match exactly, but along dimension 0, the array at index 0 has size 5 and the array at index 2 has size 4",
     "output_type": "error",
     "traceback": [
      "\u001b[1;31m---------------------------------------------------------------------------\u001b[0m",
      "\u001b[1;31mValueError\u001b[0m                                Traceback (most recent call last)",
      "Cell \u001b[1;32mIn[13], line 34\u001b[0m\n\u001b[0;32m     31\u001b[0m test_initial_positions \u001b[38;5;241m=\u001b[39m test_trajectory[\u001b[38;5;241m0\u001b[39m, :, :\u001b[38;5;241m2\u001b[39m]\n\u001b[0;32m     32\u001b[0m test_initial_velocities \u001b[38;5;241m=\u001b[39m (test_trajectory[\u001b[38;5;241m1\u001b[39m, :, :\u001b[38;5;241m2\u001b[39m] \u001b[38;5;241m-\u001b[39m test_trajectory[\u001b[38;5;241m0\u001b[39m, :, :\u001b[38;5;241m2\u001b[39m]) \u001b[38;5;241m/\u001b[39m \u001b[38;5;241m0.5\u001b[39m\n\u001b[1;32m---> 34\u001b[0m test_x \u001b[38;5;241m=\u001b[39m \u001b[43mnp\u001b[49m\u001b[38;5;241;43m.\u001b[39;49m\u001b[43mconcatenate\u001b[49m\u001b[43m(\u001b[49m\u001b[43m[\u001b[49m\u001b[43mtest_initial_positions\u001b[49m\u001b[43m,\u001b[49m\u001b[43m \u001b[49m\u001b[43mtest_initial_velocities\u001b[49m\u001b[43m,\u001b[49m\u001b[43m \u001b[49m\u001b[43mcharges\u001b[49m\u001b[43m[\u001b[49m\u001b[43m:\u001b[49m\u001b[43mtest_initial_positions\u001b[49m\u001b[38;5;241;43m.\u001b[39;49m\u001b[43mshape\u001b[49m\u001b[43m[\u001b[49m\u001b[38;5;241;43m0\u001b[39;49m\u001b[43m]\u001b[49m\u001b[43m]\u001b[49m\u001b[43m]\u001b[49m\u001b[43m,\u001b[49m\u001b[43m \u001b[49m\u001b[43maxis\u001b[49m\u001b[38;5;241;43m=\u001b[39;49m\u001b[38;5;241;43m-\u001b[39;49m\u001b[38;5;241;43m1\u001b[39;49m\u001b[43m)\u001b[49m\n\u001b[0;32m     35\u001b[0m test_x \u001b[38;5;241m=\u001b[39m test_x \u001b[38;5;241m/\u001b[39m \u001b[38;5;241m20.0\u001b[39m\n\u001b[0;32m     37\u001b[0m predicted_positions \u001b[38;5;241m=\u001b[39m model\u001b[38;5;241m.\u001b[39mpredict(test_x)\n",
      "\u001b[1;31mValueError\u001b[0m: all the input array dimensions except for the concatenation axis must match exactly, but along dimension 0, the array at index 0 has size 5 and the array at index 2 has size 4"
     ]
    }
   ],
   "source": [
    "# Prepare the data for training \n",
    "# Initial positions at t=0\n",
    "initial_positions = trajectory[0, :, :2]\n",
    "# Initial velocities estimated from the difference in positions between t=1 and t=0\n",
    "initial_velocities = (trajectory[1, :, :2] - trajectory[0, :, :2]) / 0.5  # Assuming time step is 0.5s\n",
    "# Generate charges for the atoms (for simplicity, using random charges)\n",
    "charges = np.random.choice([-1, 1], size=(initial_positions.shape[0], 1))\n",
    "# Prepare data\n",
    "x_train = np.concatenate([initial_positions, initial_velocities, charges], axis=-1)\n",
    "y_train = trajectory[1:, :, :2].reshape(trajectory.shape[0] - 1, -1)\n",
    "\n",
    "# Normalize positions and velocities\n",
    "x_train = x_train / 20.0\n",
    "y_train = y_train / 20.0\n",
    "\n",
    "# Define the LSTM model\n",
    "model = Sequential()\n",
    "model.add(InputLayer(input_shape=(x_train.shape[1],)))\n",
    "model.add(Dense(128, activation='relu'))\n",
    "model.add(Dense(128, activation='relu'))\n",
    "model.add(Dense(initial_positions.shape[0] * 2))  # Predicting 2 coordinates for each atom\n",
    "\n",
    "# Compile the model\n",
    "model.compile(optimizer=Adam(learning_rate=0.001), loss='mse')\n",
    "\n",
    "# Train the model\n",
    "model.fit(x_train, y_train, epochs=100, batch_size=32, validation_split=0.1)\n",
    "\n",
    "# Predict the sequence of positions for test data\n",
    "test_trajectory, test_energy = load_trajectory('data_A2_2AMM10_2023_2024/data/task3/test/trajectory_900.npz', 'task_2')\n",
    "test_initial_positions = test_trajectory[0, :, :2]\n",
    "test_initial_velocities = (test_trajectory[1, :, :2] - test_trajectory[0, :, :2]) / 0.5\n",
    "\n",
    "test_x = np.concatenate([test_initial_positions, test_initial_velocities, charges[:test_initial_positions.shape[0]]], axis=-1)\n",
    "test_x = test_x / 20.0\n",
    "\n",
    "predicted_positions = model.predict(test_x)\n",
    "\n",
    "# Reshape the predicted positions back to the original format\n",
    "predicted_positions = predicted_positions * 20.0  # Re-scale back to original dimensions\n",
    "predicted_positions = predicted_positions.reshape(test_trajectory.shape[0] - 1, -1, 2)\n",
    "\n",
    "print(predicted_positions)"
   ]
  },
  {
   "cell_type": "markdown",
   "metadata": {},
   "source": [
    "# Task 3"
   ]
  },
  {
   "cell_type": "markdown",
   "metadata": {},
   "source": [
    "In task 3, you also need to model the influences of the crystal. An example of loading a trajectory can be found below. The trajectory and energy data has the same shape as before, however, data regarding the crystal has been added. Since atoms belonging to the crystal do not move, this data does not have a time dimension when loaded. The shapes of the arrays are as follows:\n",
    "\n",
    "```trajectory```: ```(time, n_bodies, [x, y, v_x, v_y, q])```\n",
    "\n",
    "```energy```: ```(time, 1)```\n",
    "\n",
    "```framework```:```(n_framework_atom, [x, y, q])```\n",
    "\n"
   ]
  },
  {
   "cell_type": "code",
   "execution_count": 5,
   "metadata": {},
   "outputs": [
    {
     "name": "stdout",
     "output_type": "stream",
     "text": [
      "Trajectory shape: (40, 4, 5), Framework shape: (20, 3), Energy shape: (40, 1)\n"
     ]
    }
   ],
   "source": [
    "trajectory, framework, energy = load_trajectory('data/task3/train/trajectory_0.npz', 'task_3')\n",
    "print(f'Trajectory shape: {trajectory.shape}, Framework shape: {framework.shape}, Energy shape: {energy.shape}')"
   ]
  },
  {
   "cell_type": "markdown",
   "metadata": {},
   "source": [
    "The following code provides an example of how to visualize a trajectory with a crystal. Feel free to modify this code, or write your own function. When evaluating your model in this task, keep in mind that you are only allowed to use the data at t=0 (the black dots in the visualization)."
   ]
  },
  {
   "cell_type": "code",
   "execution_count": 6,
   "metadata": {},
   "outputs": [
    {
     "data": {
      "image/png": "[encoded data removed]",
      "text/plain": [
       "<Figure size 400x400 with 1 Axes>"
      ]
     },
     "metadata": {},
     "output_type": "display_data"
    },
    {
     "data": {
      "image/png": "[encoded data removed]",
      "text/plain": [
       "<Figure size 400x100 with 1 Axes>"
      ]
     },
     "metadata": {},
     "output_type": "display_data"
    }
   ],
   "source": [
    "x = trajectory[...,0]\n",
    "y = trajectory[...,1]\n",
    "\n",
    "x_fw = framework[...,0]\n",
    "y_fw = framework[...,1]\n",
    "q_fw = framework[...,2]\n",
    "\n",
    "plt.figure(figsize=(4,4))\n",
    "plt.vlines([0,20],0,20)\n",
    "plt.hlines([0,20],0,20)\n",
    "\n",
    "plt.scatter(x[0], y[0], c='black')\n",
    "\n",
    "for i in range(x.shape[1]):\n",
    "    plt.scatter(x[:,i], y[:,i], s=5)\n",
    "\n",
    "plt.scatter(x_fw, y_fw, c=q_fw, cmap='viridis', s=50)\n",
    "# to also visualize the framework points along the boundaries\n",
    "plt.scatter(x_fw+20, y_fw, c=q_fw, cmap='viridis', s=50)\n",
    "plt.scatter(x_fw, y_fw+20, c=q_fw, cmap='viridis', s=50)\n",
    "plt.scatter(x_fw+20, y_fw+20, c=q_fw, cmap='viridis', s=50)\n",
    "\n",
    "plt.xlim(-1,21)\n",
    "plt.ylim(-1,21)\n",
    "\n",
    "plt.show()\n",
    "plt.figure(figsize=(4,1))\n",
    "plt.plot(energy)\n",
    "plt.xlabel('step')\n",
    "plt.title('System energy over time')\n",
    "plt.show();"
   ]
  },
  {
   "cell_type": "markdown",
   "metadata": {},
   "source": [
    "Implement task 3 below. Feel free to add extra code cells for different components of your implementation."
   ]
  },
  {
   "cell_type": "code",
   "execution_count": null,
   "metadata": {},
   "outputs": [],
   "source": []
  }
 ],
 "metadata": {
  "kernelspec": {
   "display_name": "torch4",
   "language": "python",
   "name": "python3"
  },
  "language_info": {
   "codemirror_mode": {
    "name": "ipython",
    "version": 3
   },
   "file_extension": ".py",
   "mimetype": "text/x-python",
   "name": "python",
   "nbconvert_exporter": "python",
   "pygments_lexer": "ipython3",
   "version": "3.10.13"
  }
 },
 "nbformat": 4,
 "nbformat_minor": 2
}
